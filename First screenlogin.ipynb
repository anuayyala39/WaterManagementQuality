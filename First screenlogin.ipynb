{
 "cells": [
  {
   "cell_type": "code",
   "execution_count": 3,
   "id": "238565f1",
   "metadata": {},
   "outputs": [
    {
     "name": "stdout",
     "output_type": "stream",
     "text": [
      "<mysql.connector.connection.MySQLConnection object at 0x0000026A989C9790>\n"
     ]
    }
   ],
   "source": [
    "import mysql.connector as sql\n",
    "from tkinter import *\n",
    "\n",
    "mydb=sql.connect(host=\"localhost\",user=\"root\",passwd=\"Unlv@123\",use_pure=True)\n",
    "print(mydb)\n",
    "\n",
    "\n",
    "root = Tk()\n",
    "root.title('Water Quality Monitoring Software')\n",
    "root.geometry(\"400x500\")\n",
    "#set window color\n",
    "root.configure(bg='white')\n",
    "\n",
    "def get_input():\n",
    "\n",
    "    zipcode = entry1.get()\n",
    "    printData(zipcode)\n",
    "\n",
    "#Label 1\n",
    "label1 = Label(root,text = 'Zipcode')\n",
    "label1.pack()\n",
    "label1.config(justify = CENTER)\n",
    "\n",
    "entry1 = Entry(root, width = 30)\n",
    "entry1.pack()\n",
    "\n",
    "\n",
    "#button\n",
    "btnSubmit= Button(root, text = 'Search',bg='aqua')\n",
    "btnSubmit.pack() \n",
    "btnSubmit.config(command = get_input)\n"
   ]
  },
  {
   "cell_type": "code",
   "execution_count": null,
   "id": "f558de2d",
   "metadata": {},
   "outputs": [],
   "source": []
  }
 ],
 "metadata": {
  "kernelspec": {
   "display_name": "Python 3",
   "language": "python",
   "name": "python3"
  },
  "language_info": {
   "codemirror_mode": {
    "name": "ipython",
    "version": 3
   },
   "file_extension": ".py",
   "mimetype": "text/x-python",
   "name": "python",
   "nbconvert_exporter": "python",
   "pygments_lexer": "ipython3",
   "version": "3.8.8"
  }
 },
 "nbformat": 4,
 "nbformat_minor": 5
}
