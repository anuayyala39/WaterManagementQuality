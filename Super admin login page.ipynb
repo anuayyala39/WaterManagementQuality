{
 "cells": [
  {
   "cell_type": "code",
   "execution_count": 9,
   "id": "338126f3",
   "metadata": {},
   "outputs": [
    {
     "name": "stdout",
     "output_type": "stream",
     "text": [
      "Aparna\n",
      "A\n",
      "[]\n",
      "0\n",
      "Enter valid Username and Password\n"
     ]
    }
   ],
   "source": [
    "import mysql.connector as sql\n",
    "from tkinter import *\n",
    "\n",
    "mydb=sql.connect(host=\"localhost\",user=\"root\",passwd=\"Unlv@123\",use_pure=True)\n",
    "\n",
    "\n",
    "def get_inputs():\n",
    "    Username = txtUsername.get()\n",
    "    Password = txtPassword.get()\n",
    "    print(Username)\n",
    "    print(Password)\n",
    "    # DB\n",
    "    cursor1 = mydb.cursor()\n",
    "    checkAdmin = (\"SELECT UserName,Password From waterquality.useradmindetails where UserName = %s and Password = %s\")\n",
    "    data_employee = (Username,Password)\n",
    "    cursor1.execute(checkAdmin,data_employee)\n",
    "    print(cursor1.fetchall())\n",
    "    print(cursor1.rowcount)\n",
    "    if (cursor1.rowcount == 0):\n",
    "        print('Enter valid Username and Password')\n",
    "        \n",
    "    root.destroy()\n",
    "\n",
    "root = Tk()\n",
    "#\n",
    "root.title('Super Admin Login')\n",
    "root.geometry(\"400x500\")\n",
    "#lable 1\n",
    "lblUsername = Label (root, text = \"Username\")\n",
    "lblUsername.pack()\n",
    "lblUsername.config(justify = CENTER) \n",
    "\n",
    "#input text passowrd\n",
    "txtUsername = Entry (root, width = 30)\n",
    "txtUsername.pack()\n",
    "\n",
    "\n",
    "#lable 2\n",
    "lblPassword = Label (root, text = \"Password\")\n",
    "lblPassword.pack()\n",
    "lblPassword.config(justify = CENTER)\n",
    "                   \n",
    "#input text box for passowrd\n",
    "txtPassword = Entry(root, width = 30)\n",
    "txtPassword.pack()\n",
    "                   \n",
    "                   \n",
    "# submit button lable\n",
    "btnSubmit = Button(root , text = \"Login\", bg = \"aqua\")\n",
    "btnSubmit.pack()\n",
    "btnSubmit.config(command = get_inputs)\n",
    "        \n",
    "\n",
    "\n",
    "root.mainloop()"
   ]
  },
  {
   "cell_type": "code",
   "execution_count": null,
   "id": "d7e3b143",
   "metadata": {},
   "outputs": [],
   "source": []
  }
 ],
 "metadata": {
  "kernelspec": {
   "display_name": "Python 3",
   "language": "python",
   "name": "python3"
  },
  "language_info": {
   "codemirror_mode": {
    "name": "ipython",
    "version": 3
   },
   "file_extension": ".py",
   "mimetype": "text/x-python",
   "name": "python",
   "nbconvert_exporter": "python",
   "pygments_lexer": "ipython3",
   "version": "3.8.8"
  }
 },
 "nbformat": 4,
 "nbformat_minor": 5
}
